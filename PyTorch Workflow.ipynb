{
 "cells": [
  {
   "cell_type": "code",
   "execution_count": 121,
   "id": "c5d323dc",
   "metadata": {},
   "outputs": [],
   "source": [
    "import torch\n",
    "from torch import nn\n",
    "import matplotlib.pyplot as plt\n"
   ]
  },
  {
   "cell_type": "code",
   "execution_count": 122,
   "id": "50c496c5",
   "metadata": {},
   "outputs": [
    {
     "data": {
      "text/plain": [
       "'2.0.1+cu118'"
      ]
     },
     "execution_count": 122,
     "metadata": {},
     "output_type": "execute_result"
    }
   ],
   "source": [
    "torch.__version__"
   ]
  },
  {
   "cell_type": "markdown",
   "id": "d8eeaf90",
   "metadata": {},
   "source": [
    "### Create a linear regression using torch.nn module."
   ]
  },
  {
   "cell_type": "code",
   "execution_count": 123,
   "id": "3b88a30e",
   "metadata": {},
   "outputs": [
    {
     "data": {
      "text/plain": [
       "(tensor([[0.0000],\n",
       "         [0.0200],\n",
       "         [0.0400],\n",
       "         [0.0600],\n",
       "         [0.0800]]),\n",
       " tensor([[0.2500],\n",
       "         [0.2640],\n",
       "         [0.2780],\n",
       "         [0.2920],\n",
       "         [0.3060]]))"
      ]
     },
     "execution_count": 123,
     "metadata": {},
     "output_type": "execute_result"
    }
   ],
   "source": [
    "# Create *known* parameters\n",
    "weight = 0.7\n",
    "bias = 0.25\n",
    "\n",
    "# Create data\n",
    "start = 0\n",
    "end = 2\n",
    "step = 0.02\n",
    "X = torch.arange(start, end, step).unsqueeze(dim=1)\n",
    "y = weight * X + bias\n",
    "\n",
    "X[:5], y[:5]"
   ]
  },
  {
   "cell_type": "markdown",
   "id": "202db536",
   "metadata": {},
   "source": [
    "   ### Split the dataset into train and test"
   ]
  },
  {
   "cell_type": "code",
   "execution_count": 124,
   "id": "4c7c6961",
   "metadata": {},
   "outputs": [
    {
     "name": "stdout",
     "output_type": "stream",
     "text": [
      "X_train len: 80, X_test len: 20 , y_train len: 80, y_test len: 20\n"
     ]
    }
   ],
   "source": [
    "train_split = int(0.8 * len(X))\n",
    "X_train, X_test = X[:train_split], X[train_split:]\n",
    "y_train, y_test = y[:train_split], y[train_split:]\n",
    "\n",
    "print(f\"X_train len: {len(X_train)}, X_test len: {len(X_test)} , y_train len: {len(y_train)}, y_test len: {len(y_test)}\")"
   ]
  },
  {
   "cell_type": "code",
   "execution_count": 125,
   "id": "8f462029",
   "metadata": {},
   "outputs": [],
   "source": [
    "def plot_predictions(train_data=X_train, \n",
    "                     train_labels=y_train, \n",
    "                     test_data=X_test, \n",
    "                     test_labels=y_test, \n",
    "                     predictions=None):\n",
    "    \n",
    "\n",
    "    plt.figure(figsize=(6, 6))\n",
    "\n",
    "    # Plot training data in blue\n",
    "    plt.scatter(train_data, train_labels, c=\"b\", s=5, label=\"Training data\")\n",
    "\n",
    "    # Plot test data in green\n",
    "    plt.scatter(test_data, test_labels, c=\"g\", s=5, label=\"Testing data\")\n",
    "\n",
    "    if predictions is not None:\n",
    "    # Plot the predictions in red (predictions were made on the test data)\n",
    "        plt.scatter(test_data, predictions, c=\"r\", s=4, label=\"Predictions\")\n",
    "\n",
    "    # Show the legend\n",
    "    plt.legend(prop={\"size\": 14});"
   ]
  },
  {
   "cell_type": "code",
   "execution_count": 126,
   "id": "2b06457f",
   "metadata": {
    "scrolled": false
   },
   "outputs": [
    {
     "data": {
      "image/png": "[encoded data removed]",
      "text/plain": [
       "<Figure size 600x600 with 1 Axes>"
      ]
     },
     "metadata": {},
     "output_type": "display_data"
    }
   ],
   "source": [
    "plot_predictions()"
   ]
  },
  {
   "cell_type": "markdown",
   "id": "053fbc77",
   "metadata": {},
   "source": [
    "### Build the model"
   ]
  },
  {
   "cell_type": "code",
   "execution_count": 127,
   "id": "cf020053",
   "metadata": {},
   "outputs": [],
   "source": [
    "class LinearRegression(nn.Module):\n",
    "    def __init__(self):\n",
    "        super().__init__()\n",
    "        self.weights = nn.Parameter(torch.randn(1, dtype=torch.float), requires_grad=True)\n",
    "        self.bias = nn.Parameter(torch.randn(1, dtype=torch.float), requires_grad=True)\n",
    "        \n",
    "    def forward(self, x:torch.Tensor) -> torch.Tensor:\n",
    "        return self.weights * x + self.bias"
   ]
  },
  {
   "cell_type": "code",
   "execution_count": 128,
   "id": "f3b2a132",
   "metadata": {},
   "outputs": [
    {
     "data": {
      "text/plain": [
       "[Parameter containing:\n",
       " tensor([1.5410], requires_grad=True),\n",
       " Parameter containing:\n",
       " tensor([-0.2934], requires_grad=True)]"
      ]
     },
     "execution_count": 128,
     "metadata": {},
     "output_type": "execute_result"
    }
   ],
   "source": [
    "torch.manual_seed(0)\n",
    "model_0 = LinearRegression()\n",
    "list(model_0.parameters())"
   ]
  },
  {
   "cell_type": "code",
   "execution_count": 129,
   "id": "6a836d2a",
   "metadata": {},
   "outputs": [
    {
     "data": {
      "text/plain": [
       "OrderedDict([('weights', tensor([1.5410])), ('bias', tensor([-0.2934]))])"
      ]
     },
     "execution_count": 129,
     "metadata": {},
     "output_type": "execute_result"
    }
   ],
   "source": [
    "model_0.state_dict()"
   ]
  },
  {
   "cell_type": "code",
   "execution_count": 130,
   "id": "de37cf5b",
   "metadata": {},
   "outputs": [],
   "source": [
    "with torch.inference_mode():\n",
    "    y_preds = model_0(X_test)\n"
   ]
  },
  {
   "cell_type": "code",
   "execution_count": 131,
   "id": "63e004e7",
   "metadata": {},
   "outputs": [
    {
     "name": "stdout",
     "output_type": "stream",
     "text": [
      "Number of testing samples: 20\n",
      "Number of predictions made: 20\n",
      "Predicted values:\n",
      "tensor([[2.1722],\n",
      "        [2.2030],\n",
      "        [2.2338],\n",
      "        [2.2646],\n",
      "        [2.2954],\n",
      "        [2.3263],\n",
      "        [2.3571],\n",
      "        [2.3879],\n",
      "        [2.4187],\n",
      "        [2.4495],\n",
      "        [2.4804],\n",
      "        [2.5112],\n",
      "        [2.5420],\n",
      "        [2.5728],\n",
      "        [2.6036],\n",
      "        [2.6345],\n",
      "        [2.6653],\n",
      "        [2.6961],\n",
      "        [2.7269],\n",
      "        [2.7577]])\n"
     ]
    }
   ],
   "source": [
    "# Check the predictions\n",
    "print(f\"Number of testing samples: {len(X_test)}\") \n",
    "print(f\"Number of predictions made: {len(y_preds)}\")\n",
    "print(f\"Predicted values:\\n{y_preds}\")"
   ]
  },
  {
   "cell_type": "code",
   "execution_count": 132,
   "id": "de076bf6",
   "metadata": {},
   "outputs": [
    {
     "data": {
      "image/png": "[encoded data removed]",
      "text/plain": [
       "<Figure size 600x600 with 1 Axes>"
      ]
     },
     "metadata": {},
     "output_type": "display_data"
    }
   ],
   "source": [
    "plot_predictions(predictions=y_preds)"
   ]
  },
  {
   "cell_type": "code",
   "execution_count": 133,
   "id": "cfe16012",
   "metadata": {},
   "outputs": [
    {
     "data": {
      "text/plain": [
       "tensor([[-0.8022],\n",
       "        [-0.8190],\n",
       "        [-0.8358],\n",
       "        [-0.8526],\n",
       "        [-0.8694],\n",
       "        [-0.8863],\n",
       "        [-0.9031],\n",
       "        [-0.9199],\n",
       "        [-0.9367],\n",
       "        [-0.9535],\n",
       "        [-0.9704],\n",
       "        [-0.9872],\n",
       "        [-1.0040],\n",
       "        [-1.0208],\n",
       "        [-1.0376],\n",
       "        [-1.0545],\n",
       "        [-1.0713],\n",
       "        [-1.0881],\n",
       "        [-1.1049],\n",
       "        [-1.1217]])"
      ]
     },
     "execution_count": 133,
     "metadata": {},
     "output_type": "execute_result"
    }
   ],
   "source": [
    "y_test - y_preds"
   ]
  },
  {
   "cell_type": "markdown",
   "id": "39db13df",
   "metadata": {},
   "source": [
    "### Train Model"
   ]
  },
  {
   "cell_type": "code",
   "execution_count": 134,
   "id": "347a5885",
   "metadata": {},
   "outputs": [],
   "source": [
    "loss_function = nn.L1Loss()\n",
    "optimizer = torch.optim.SGD(params=model_0.parameters(), lr=0.001)"
   ]
  },
  {
   "cell_type": "code",
   "execution_count": 135,
   "id": "65da1092",
   "metadata": {},
   "outputs": [
    {
     "name": "stdout",
     "output_type": "stream",
     "text": [
      "Epoch: 0 | MAE Train Loss: 0.3472638726234436 | MAE Test Loss: 0.9608375430107117 \n",
      "Epoch: 10 | MAE Train Loss: 0.34419113397598267 | MAE Test Loss: 0.949673056602478 \n",
      "Epoch: 20 | MAE Train Loss: 0.34111839532852173 | MAE Test Loss: 0.9385086894035339 \n",
      "Epoch: 30 | MAE Train Loss: 0.3382313847541809 | MAE Test Loss: 0.9277796745300293 \n",
      "Epoch: 40 | MAE Train Loss: 0.33541053533554077 | MAE Test Loss: 0.9171597361564636 \n",
      "Epoch: 50 | MAE Train Loss: 0.33258965611457825 | MAE Test Loss: 0.9065397381782532 \n",
      "Epoch: 60 | MAE Train Loss: 0.3298690915107727 | MAE Test Loss: 0.8961974382400513 \n",
      "Epoch: 70 | MAE Train Loss: 0.32728755474090576 | MAE Test Loss: 0.8861324191093445 \n",
      "Epoch: 80 | MAE Train Loss: 0.32470595836639404 | MAE Test Loss: 0.8760677576065063 \n",
      "Epoch: 90 | MAE Train Loss: 0.3221244215965271 | MAE Test Loss: 0.8660026788711548 \n",
      "Epoch: 100 | MAE Train Loss: 0.31975501775741577 | MAE Test Loss: 0.8564993739128113 \n",
      "Epoch: 110 | MAE Train Loss: 0.3173985481262207 | MAE Test Loss: 0.8469963073730469 \n",
      "Epoch: 120 | MAE Train Loss: 0.31504201889038086 | MAE Test Loss: 0.8374931216239929 \n",
      "Epoch: 130 | MAE Train Loss: 0.31275901198387146 | MAE Test Loss: 0.8282184600830078 \n",
      "Epoch: 140 | MAE Train Loss: 0.31061404943466187 | MAE Test Loss: 0.8192873001098633 \n",
      "Epoch: 150 | MAE Train Loss: 0.30846908688545227 | MAE Test Loss: 0.8103561401367188 \n",
      "Epoch: 160 | MAE Train Loss: 0.3063240647315979 | MAE Test Loss: 0.8014246225357056 \n",
      "Epoch: 170 | MAE Train Loss: 0.30430087447166443 | MAE Test Loss: 0.7929013967514038 \n",
      "Epoch: 180 | MAE Train Loss: 0.30235329270362854 | MAE Test Loss: 0.7845531105995178 \n",
      "Epoch: 190 | MAE Train Loss: 0.3004056513309479 | MAE Test Loss: 0.7762046456336975 \n",
      "Epoch: 200 | MAE Train Loss: 0.2984580397605896 | MAE Test Loss: 0.7678563594818115 \n",
      "Epoch: 210 | MAE Train Loss: 0.2966255247592926 | MAE Test Loss: 0.7599204182624817 \n",
      "Epoch: 220 | MAE Train Loss: 0.29485946893692017 | MAE Test Loss: 0.7521615624427795 \n",
      "Epoch: 230 | MAE Train Loss: 0.2930934727191925 | MAE Test Loss: 0.7444024682044983 \n",
      "Epoch: 240 | MAE Train Loss: 0.29132741689682007 | MAE Test Loss: 0.736643373966217 \n",
      "Epoch: 250 | MAE Train Loss: 0.28963223099708557 | MAE Test Loss: 0.7291843295097351 \n",
      "Epoch: 260 | MAE Train Loss: 0.2880324423313141 | MAE Test Loss: 0.7220253348350525 \n",
      "Epoch: 270 | MAE Train Loss: 0.2864326238632202 | MAE Test Loss: 0.7148662805557251 \n",
      "Epoch: 280 | MAE Train Loss: 0.28483280539512634 | MAE Test Loss: 0.7077071666717529 \n",
      "Epoch: 290 | MAE Train Loss: 0.28323304653167725 | MAE Test Loss: 0.7005481719970703 \n",
      "Epoch: 300 | MAE Train Loss: 0.28176912665367126 | MAE Test Loss: 0.693995475769043 \n",
      "Epoch: 310 | MAE Train Loss: 0.2803187370300293 | MAE Test Loss: 0.6874427199363708 \n",
      "Epoch: 320 | MAE Train Loss: 0.27886834740638733 | MAE Test Loss: 0.6808900833129883 \n",
      "Epoch: 330 | MAE Train Loss: 0.27741795778274536 | MAE Test Loss: 0.6743375658988953 \n",
      "Epoch: 340 | MAE Train Loss: 0.275967538356781 | MAE Test Loss: 0.6677846908569336 \n",
      "Epoch: 350 | MAE Train Loss: 0.27464261651039124 | MAE Test Loss: 0.6618491411209106 \n",
      "Epoch: 360 | MAE Train Loss: 0.2733250856399536 | MAE Test Loss: 0.6559136509895325 \n",
      "Epoch: 370 | MAE Train Loss: 0.2720075249671936 | MAE Test Loss: 0.6499780416488647 \n",
      "Epoch: 380 | MAE Train Loss: 0.27069002389907837 | MAE Test Loss: 0.6440423727035522 \n",
      "Epoch: 390 | MAE Train Loss: 0.26937246322631836 | MAE Test Loss: 0.6381068229675293 \n",
      "Epoch: 400 | MAE Train Loss: 0.2681143283843994 | MAE Test Loss: 0.632546603679657 \n",
      "Epoch: 410 | MAE Train Loss: 0.266912043094635 | MAE Test Loss: 0.627236545085907 \n",
      "Epoch: 420 | MAE Train Loss: 0.265709787607193 | MAE Test Loss: 0.621926486492157 \n",
      "Epoch: 430 | MAE Train Loss: 0.264507532119751 | MAE Test Loss: 0.6166165471076965 \n",
      "Epoch: 440 | MAE Train Loss: 0.2633052468299866 | MAE Test Loss: 0.6113065481185913 \n",
      "Epoch: 450 | MAE Train Loss: 0.26210302114486694 | MAE Test Loss: 0.6059964895248413 \n",
      "Epoch: 460 | MAE Train Loss: 0.26093214750289917 | MAE Test Loss: 0.6009409427642822 \n",
      "Epoch: 470 | MAE Train Loss: 0.25982728600502014 | MAE Test Loss: 0.5962668657302856 \n",
      "Epoch: 480 | MAE Train Loss: 0.2587225139141083 | MAE Test Loss: 0.5915929675102234 \n",
      "Epoch: 490 | MAE Train Loss: 0.25761768221855164 | MAE Test Loss: 0.5869188904762268 \n",
      "Epoch: 500 | MAE Train Loss: 0.25651291012763977 | MAE Test Loss: 0.5822447538375854 \n",
      "Epoch: 510 | MAE Train Loss: 0.25540807843208313 | MAE Test Loss: 0.5775707960128784 \n",
      "Epoch: 520 | MAE Train Loss: 0.2543032765388489 | MAE Test Loss: 0.5728968381881714 \n",
      "Epoch: 530 | MAE Train Loss: 0.25320643186569214 | MAE Test Loss: 0.5683512091636658 \n",
      "Epoch: 540 | MAE Train Loss: 0.2521798014640808 | MAE Test Loss: 0.5643199682235718 \n",
      "Epoch: 550 | MAE Train Loss: 0.2511531710624695 | MAE Test Loss: 0.5602885484695435 \n",
      "Epoch: 560 | MAE Train Loss: 0.25012657046318054 | MAE Test Loss: 0.5562572479248047 \n",
      "Epoch: 570 | MAE Train Loss: 0.2490999698638916 | MAE Test Loss: 0.5522257685661316 \n",
      "Epoch: 580 | MAE Train Loss: 0.24807333946228027 | MAE Test Loss: 0.5481945276260376 \n",
      "Epoch: 590 | MAE Train Loss: 0.24704675376415253 | MAE Test Loss: 0.5441631078720093 \n",
      "Epoch: 600 | MAE Train Loss: 0.2460201233625412 | MAE Test Loss: 0.5401318073272705 \n",
      "Epoch: 610 | MAE Train Loss: 0.24499349296092987 | MAE Test Loss: 0.5361003279685974 \n",
      "Epoch: 620 | MAE Train Loss: 0.24397878348827362 | MAE Test Loss: 0.5322650074958801 \n",
      "Epoch: 630 | MAE Train Loss: 0.2430112063884735 | MAE Test Loss: 0.5288870930671692 \n",
      "Epoch: 640 | MAE Train Loss: 0.2420436143875122 | MAE Test Loss: 0.5255089998245239 \n",
      "Epoch: 650 | MAE Train Loss: 0.2410760223865509 | MAE Test Loss: 0.5221309065818787 \n",
      "Epoch: 660 | MAE Train Loss: 0.2401084154844284 | MAE Test Loss: 0.518752932548523 \n",
      "Epoch: 670 | MAE Train Loss: 0.2391408383846283 | MAE Test Loss: 0.5153749585151672 \n",
      "Epoch: 680 | MAE Train Loss: 0.238173246383667 | MAE Test Loss: 0.511996865272522 \n",
      "Epoch: 690 | MAE Train Loss: 0.23720569908618927 | MAE Test Loss: 0.5086188316345215 \n",
      "Epoch: 700 | MAE Train Loss: 0.23623807728290558 | MAE Test Loss: 0.505240797996521 \n",
      "Epoch: 710 | MAE Train Loss: 0.23527047038078308 | MAE Test Loss: 0.5018628835678101 \n",
      "Epoch: 720 | MAE Train Loss: 0.23430287837982178 | MAE Test Loss: 0.49848484992980957 \n",
      "Epoch: 730 | MAE Train Loss: 0.23333530128002167 | MAE Test Loss: 0.4951067566871643 \n",
      "Epoch: 740 | MAE Train Loss: 0.23237952589988708 | MAE Test Loss: 0.4919935166835785 \n",
      "Epoch: 750 | MAE Train Loss: 0.23145075142383575 | MAE Test Loss: 0.48927736282348633 \n",
      "Epoch: 760 | MAE Train Loss: 0.23052199184894562 | MAE Test Loss: 0.48656123876571655 \n",
      "Epoch: 770 | MAE Train Loss: 0.22959323227405548 | MAE Test Loss: 0.48384514451026917 \n",
      "Epoch: 780 | MAE Train Loss: 0.22866447269916534 | MAE Test Loss: 0.481128990650177 \n",
      "Epoch: 790 | MAE Train Loss: 0.2277357280254364 | MAE Test Loss: 0.47841280698776245 \n",
      "Epoch: 800 | MAE Train Loss: 0.22680695354938507 | MAE Test Loss: 0.4756966531276703 \n",
      "Epoch: 810 | MAE Train Loss: 0.22587819397449493 | MAE Test Loss: 0.4729804992675781 \n",
      "Epoch: 820 | MAE Train Loss: 0.2249494045972824 | MAE Test Loss: 0.47026434540748596 \n",
      "Epoch: 830 | MAE Train Loss: 0.22402064502239227 | MAE Test Loss: 0.4675482213497162 \n",
      "Epoch: 840 | MAE Train Loss: 0.22309187054634094 | MAE Test Loss: 0.464832067489624 \n",
      "Epoch: 850 | MAE Train Loss: 0.2221631109714508 | MAE Test Loss: 0.46211594343185425 \n",
      "Epoch: 860 | MAE Train Loss: 0.22123435139656067 | MAE Test Loss: 0.4593997895717621 \n",
      "Epoch: 870 | MAE Train Loss: 0.22030559182167053 | MAE Test Loss: 0.4566836357116699 \n",
      "Epoch: 880 | MAE Train Loss: 0.2193768322467804 | MAE Test Loss: 0.453967422246933 \n",
      "Epoch: 890 | MAE Train Loss: 0.21844807267189026 | MAE Test Loss: 0.4512513279914856 \n",
      "Epoch: 900 | MAE Train Loss: 0.21751931309700012 | MAE Test Loss: 0.4485352039337158 \n",
      "Epoch: 910 | MAE Train Loss: 0.2165905237197876 | MAE Test Loss: 0.44581905007362366 \n",
      "Epoch: 920 | MAE Train Loss: 0.21566176414489746 | MAE Test Loss: 0.4431028962135315 \n",
      "Epoch: 930 | MAE Train Loss: 0.21473762392997742 | MAE Test Loss: 0.4405878484249115 \n",
      "Epoch: 940 | MAE Train Loss: 0.21382682025432587 | MAE Test Loss: 0.43854203820228577 \n",
      "Epoch: 950 | MAE Train Loss: 0.21291601657867432 | MAE Test Loss: 0.4364963471889496 \n",
      "Epoch: 960 | MAE Train Loss: 0.21200518310070038 | MAE Test Loss: 0.4344507157802582 \n",
      "Epoch: 970 | MAE Train Loss: 0.21109437942504883 | MAE Test Loss: 0.43240490555763245 \n",
      "Epoch: 980 | MAE Train Loss: 0.21018357574939728 | MAE Test Loss: 0.4303590655326843 \n",
      "Epoch: 990 | MAE Train Loss: 0.20927277207374573 | MAE Test Loss: 0.42831340432167053 \n",
      "Epoch: 1000 | MAE Train Loss: 0.20836195349693298 | MAE Test Loss: 0.42626771330833435 \n",
      "Epoch: 1010 | MAE Train Loss: 0.20745110511779785 | MAE Test Loss: 0.424221932888031 \n",
      "Epoch: 1020 | MAE Train Loss: 0.2065403163433075 | MAE Test Loss: 0.4221761226654053 \n",
      "Epoch: 1030 | MAE Train Loss: 0.20562946796417236 | MAE Test Loss: 0.4201304316520691 \n",
      "Epoch: 1040 | MAE Train Loss: 0.204718679189682 | MAE Test Loss: 0.4180847108364105 \n",
      "Epoch: 1050 | MAE Train Loss: 0.20380787551403046 | MAE Test Loss: 0.4160389304161072 \n",
      "Epoch: 1060 | MAE Train Loss: 0.2028970718383789 | MAE Test Loss: 0.4139932096004486 \n",
      "Epoch: 1070 | MAE Train Loss: 0.20198623836040497 | MAE Test Loss: 0.41194748878479004 \n",
      "Epoch: 1080 | MAE Train Loss: 0.20107543468475342 | MAE Test Loss: 0.40990179777145386 \n",
      "Epoch: 1090 | MAE Train Loss: 0.20016460120677948 | MAE Test Loss: 0.4078559875488281 \n",
      "Epoch: 1100 | MAE Train Loss: 0.19925379753112793 | MAE Test Loss: 0.4058101773262024 \n",
      "Epoch: 1110 | MAE Train Loss: 0.19834297895431519 | MAE Test Loss: 0.403764545917511 \n",
      "Epoch: 1120 | MAE Train Loss: 0.19743217527866364 | MAE Test Loss: 0.4017188549041748 \n",
      "Epoch: 1130 | MAE Train Loss: 0.1965213567018509 | MAE Test Loss: 0.39967307448387146 \n",
      "Epoch: 1140 | MAE Train Loss: 0.19561055302619934 | MAE Test Loss: 0.3976272940635681 \n",
      "Epoch: 1150 | MAE Train Loss: 0.1946997344493866 | MAE Test Loss: 0.39558154344558716 \n",
      "Epoch: 1160 | MAE Train Loss: 0.19378893077373505 | MAE Test Loss: 0.39353591203689575 \n",
      "Epoch: 1170 | MAE Train Loss: 0.1928780972957611 | MAE Test Loss: 0.3914901316165924 \n",
      "Epoch: 1180 | MAE Train Loss: 0.19196730852127075 | MAE Test Loss: 0.38944435119628906 \n",
      "Epoch: 1190 | MAE Train Loss: 0.19105646014213562 | MAE Test Loss: 0.3873986601829529 \n",
      "Epoch: 1200 | MAE Train Loss: 0.19014567136764526 | MAE Test Loss: 0.3853529095649719 \n",
      "Epoch: 1210 | MAE Train Loss: 0.18923483788967133 | MAE Test Loss: 0.38330718874931335 \n",
      "Epoch: 1220 | MAE Train Loss: 0.18832404911518097 | MAE Test Loss: 0.38126140832901 \n",
      "Epoch: 1230 | MAE Train Loss: 0.18741321563720703 | MAE Test Loss: 0.37921565771102905 \n",
      "Epoch: 1240 | MAE Train Loss: 0.18650242686271667 | MAE Test Loss: 0.37716999650001526 \n",
      "Epoch: 1250 | MAE Train Loss: 0.18559159338474274 | MAE Test Loss: 0.3751242160797119 \n",
      "Epoch: 1260 | MAE Train Loss: 0.1846807897090912 | MAE Test Loss: 0.37307843565940857 \n",
      "Epoch: 1270 | MAE Train Loss: 0.18376995623111725 | MAE Test Loss: 0.3710327744483948 \n",
      "Epoch: 1280 | MAE Train Loss: 0.1828591525554657 | MAE Test Loss: 0.3689870238304138 \n",
      "Epoch: 1290 | MAE Train Loss: 0.18194833397865295 | MAE Test Loss: 0.3669412136077881 \n",
      "Epoch: 1300 | MAE Train Loss: 0.1810375452041626 | MAE Test Loss: 0.3648954927921295 \n",
      "Epoch: 1310 | MAE Train Loss: 0.18012669682502747 | MAE Test Loss: 0.36284977197647095 \n",
      "Epoch: 1320 | MAE Train Loss: 0.1792159229516983 | MAE Test Loss: 0.36080408096313477 \n",
      "Epoch: 1330 | MAE Train Loss: 0.17830505967140198 | MAE Test Loss: 0.3587583005428314 \n",
      "Epoch: 1340 | MAE Train Loss: 0.17739428579807281 | MAE Test Loss: 0.3567125201225281 \n",
      "Epoch: 1350 | MAE Train Loss: 0.17648343741893768 | MAE Test Loss: 0.3546667993068695 \n",
      "Epoch: 1360 | MAE Train Loss: 0.17557264864444733 | MAE Test Loss: 0.3526211082935333 \n",
      "Epoch: 1370 | MAE Train Loss: 0.17466184496879578 | MAE Test Loss: 0.35057535767555237 \n",
      "Epoch: 1380 | MAE Train Loss: 0.17375102639198303 | MAE Test Loss: 0.3485296070575714 \n",
      "Epoch: 1390 | MAE Train Loss: 0.1728401929140091 | MAE Test Loss: 0.3464837968349457 \n",
      "Epoch: 1400 | MAE Train Loss: 0.17192938923835754 | MAE Test Loss: 0.3444381654262543 \n",
      "Epoch: 1410 | MAE Train Loss: 0.1710185706615448 | MAE Test Loss: 0.3423923850059509 \n",
      "Epoch: 1420 | MAE Train Loss: 0.17010775208473206 | MAE Test Loss: 0.34034663438796997 \n",
      "Epoch: 1430 | MAE Train Loss: 0.1691969335079193 | MAE Test Loss: 0.338300883769989 \n",
      "Epoch: 1440 | MAE Train Loss: 0.16828615963459015 | MAE Test Loss: 0.33625516295433044 \n",
      "Epoch: 1450 | MAE Train Loss: 0.16737529635429382 | MAE Test Loss: 0.3342094421386719 \n",
      "Epoch: 1460 | MAE Train Loss: 0.16646452248096466 | MAE Test Loss: 0.33216363191604614 \n",
      "Epoch: 1470 | MAE Train Loss: 0.16555367410182953 | MAE Test Loss: 0.33011800050735474 \n",
      "Epoch: 1480 | MAE Train Loss: 0.16464290022850037 | MAE Test Loss: 0.3280722498893738 \n",
      "Epoch: 1490 | MAE Train Loss: 0.16373205184936523 | MAE Test Loss: 0.32602646946907043 \n",
      "Epoch: 1500 | MAE Train Loss: 0.16282126307487488 | MAE Test Loss: 0.3239806890487671 \n",
      "Epoch: 1510 | MAE Train Loss: 0.16191041469573975 | MAE Test Loss: 0.3219349980354309 \n"
     ]
    },
    {
     "name": "stdout",
     "output_type": "stream",
     "text": [
      "Epoch: 1520 | MAE Train Loss: 0.1609996259212494 | MAE Test Loss: 0.3198893070220947 \n",
      "Epoch: 1530 | MAE Train Loss: 0.16008880734443665 | MAE Test Loss: 0.3178435266017914 \n",
      "Epoch: 1540 | MAE Train Loss: 0.1591784507036209 | MAE Test Loss: 0.3159340023994446 \n",
      "Epoch: 1550 | MAE Train Loss: 0.15826942026615143 | MAE Test Loss: 0.3140925467014313 \n",
      "Epoch: 1560 | MAE Train Loss: 0.1573599874973297 | MAE Test Loss: 0.31231921911239624 \n",
      "Epoch: 1570 | MAE Train Loss: 0.15645086765289307 | MAE Test Loss: 0.31047773361206055 \n",
      "Epoch: 1580 | MAE Train Loss: 0.1555415242910385 | MAE Test Loss: 0.3087044358253479 \n",
      "Epoch: 1590 | MAE Train Loss: 0.1546323150396347 | MAE Test Loss: 0.306863009929657 \n",
      "Epoch: 1600 | MAE Train Loss: 0.1537230759859085 | MAE Test Loss: 0.3050895929336548 \n",
      "Epoch: 1610 | MAE Train Loss: 0.15281380712985992 | MAE Test Loss: 0.30324825644493103 \n",
      "Epoch: 1620 | MAE Train Loss: 0.1519046425819397 | MAE Test Loss: 0.3014748692512512 \n",
      "Epoch: 1630 | MAE Train Loss: 0.15099528431892395 | MAE Test Loss: 0.2996334731578827 \n",
      "Epoch: 1640 | MAE Train Loss: 0.1500861495733261 | MAE Test Loss: 0.2978600859642029 \n",
      "Epoch: 1650 | MAE Train Loss: 0.14917676150798798 | MAE Test Loss: 0.29601866006851196 \n",
      "Epoch: 1660 | MAE Train Loss: 0.1482677161693573 | MAE Test Loss: 0.2942453920841217 \n",
      "Epoch: 1670 | MAE Train Loss: 0.1473582535982132 | MAE Test Loss: 0.2924038767814636 \n",
      "Epoch: 1680 | MAE Train Loss: 0.14644917845726013 | MAE Test Loss: 0.29063063859939575 \n",
      "Epoch: 1690 | MAE Train Loss: 0.14553967118263245 | MAE Test Loss: 0.28878912329673767 \n",
      "Epoch: 1700 | MAE Train Loss: 0.14463068544864655 | MAE Test Loss: 0.28701573610305786 \n",
      "Epoch: 1710 | MAE Train Loss: 0.14372116327285767 | MAE Test Loss: 0.2852424681186676 \n",
      "Epoch: 1720 | MAE Train Loss: 0.1428121030330658 | MAE Test Loss: 0.2834009528160095 \n",
      "Epoch: 1730 | MAE Train Loss: 0.14190271496772766 | MAE Test Loss: 0.2816275954246521 \n",
      "Epoch: 1740 | MAE Train Loss: 0.14099359512329102 | MAE Test Loss: 0.27978622913360596 \n",
      "Epoch: 1750 | MAE Train Loss: 0.14008426666259766 | MAE Test Loss: 0.27801284193992615 \n",
      "Epoch: 1760 | MAE Train Loss: 0.13917508721351624 | MAE Test Loss: 0.27617147564888 \n",
      "Epoch: 1770 | MAE Train Loss: 0.13826581835746765 | MAE Test Loss: 0.2743981182575226 \n",
      "Epoch: 1780 | MAE Train Loss: 0.13735654950141907 | MAE Test Loss: 0.27255672216415405 \n",
      "Epoch: 1790 | MAE Train Loss: 0.13644732534885406 | MAE Test Loss: 0.27078336477279663 \n",
      "Epoch: 1800 | MAE Train Loss: 0.1355380266904831 | MAE Test Loss: 0.26894184947013855 \n",
      "Epoch: 1810 | MAE Train Loss: 0.13462887704372406 | MAE Test Loss: 0.26716846227645874 \n",
      "Epoch: 1820 | MAE Train Loss: 0.13371950387954712 | MAE Test Loss: 0.2653270959854126 \n",
      "Epoch: 1830 | MAE Train Loss: 0.13281042873859406 | MAE Test Loss: 0.26355376839637756 \n",
      "Epoch: 1840 | MAE Train Loss: 0.13190095126628876 | MAE Test Loss: 0.2617122232913971 \n",
      "Epoch: 1850 | MAE Train Loss: 0.13099193572998047 | MAE Test Loss: 0.25993889570236206 \n",
      "Epoch: 1860 | MAE Train Loss: 0.13008247315883636 | MAE Test Loss: 0.25809741020202637 \n",
      "Epoch: 1870 | MAE Train Loss: 0.1291734278202057 | MAE Test Loss: 0.2563241124153137 \n",
      "Epoch: 1880 | MAE Train Loss: 0.1282639354467392 | MAE Test Loss: 0.25448259711265564 \n",
      "Epoch: 1890 | MAE Train Loss: 0.12735490500926971 | MAE Test Loss: 0.2527092397212982 \n",
      "Epoch: 1900 | MAE Train Loss: 0.12644550204277039 | MAE Test Loss: 0.2509358823299408 \n",
      "Epoch: 1910 | MAE Train Loss: 0.12553639709949493 | MAE Test Loss: 0.24909436702728271 \n",
      "Epoch: 1920 | MAE Train Loss: 0.1246270090341568 | MAE Test Loss: 0.24732056260108948 \n",
      "Epoch: 1930 | MAE Train Loss: 0.1237177699804306 | MAE Test Loss: 0.24547886848449707 \n",
      "Epoch: 1940 | MAE Train Loss: 0.12280845642089844 | MAE Test Loss: 0.24367113411426544 \n",
      "Epoch: 1950 | MAE Train Loss: 0.12189922481775284 | MAE Test Loss: 0.241897314786911 \n",
      "Epoch: 1960 | MAE Train Loss: 0.12098988145589828 | MAE Test Loss: 0.24005547165870667 \n",
      "Epoch: 1970 | MAE Train Loss: 0.12008068710565567 | MAE Test Loss: 0.23828169703483582 \n",
      "Epoch: 1980 | MAE Train Loss: 0.11917124688625336 | MAE Test Loss: 0.23643998801708221 \n",
      "Epoch: 1990 | MAE Train Loss: 0.11826212704181671 | MAE Test Loss: 0.23466618359088898 \n",
      "Epoch: 2000 | MAE Train Loss: 0.11735262721776962 | MAE Test Loss: 0.23282437026500702 \n",
      "Epoch: 2010 | MAE Train Loss: 0.11644355952739716 | MAE Test Loss: 0.23105058073997498 \n",
      "Epoch: 2020 | MAE Train Loss: 0.11553402990102768 | MAE Test Loss: 0.22920890152454376 \n",
      "Epoch: 2030 | MAE Train Loss: 0.11462493240833282 | MAE Test Loss: 0.22743508219718933 \n",
      "Epoch: 2040 | MAE Train Loss: 0.11371539533138275 | MAE Test Loss: 0.2256612777709961 \n",
      "Epoch: 2050 | MAE Train Loss: 0.1128062978386879 | MAE Test Loss: 0.22381949424743652 \n",
      "Epoch: 2060 | MAE Train Loss: 0.11189690977334976 | MAE Test Loss: 0.2220456600189209 \n",
      "Epoch: 2070 | MAE Train Loss: 0.11098770797252655 | MAE Test Loss: 0.2202039659023285 \n",
      "Epoch: 2080 | MAE Train Loss: 0.1100783571600914 | MAE Test Loss: 0.21843019127845764 \n",
      "Epoch: 2090 | MAE Train Loss: 0.10916908085346222 | MAE Test Loss: 0.2165883332490921 \n",
      "Epoch: 2100 | MAE Train Loss: 0.10825983434915543 | MAE Test Loss: 0.21481457352638245 \n",
      "Epoch: 2110 | MAE Train Loss: 0.10735049098730087 | MAE Test Loss: 0.2129727154970169 \n",
      "Epoch: 2120 | MAE Train Loss: 0.10644128173589706 | MAE Test Loss: 0.2111990749835968 \n",
      "Epoch: 2130 | MAE Train Loss: 0.10553185641765594 | MAE Test Loss: 0.20935723185539246 \n",
      "Epoch: 2140 | MAE Train Loss: 0.10462276637554169 | MAE Test Loss: 0.20758342742919922 \n",
      "Epoch: 2150 | MAE Train Loss: 0.1037132740020752 | MAE Test Loss: 0.20574159920215607 \n",
      "Epoch: 2160 | MAE Train Loss: 0.10280416160821915 | MAE Test Loss: 0.20396780967712402 \n",
      "Epoch: 2170 | MAE Train Loss: 0.10189463198184967 | MAE Test Loss: 0.20212610065937042 \n",
      "Epoch: 2180 | MAE Train Loss: 0.10098554939031601 | MAE Test Loss: 0.20035231113433838 \n",
      "Epoch: 2190 | MAE Train Loss: 0.10007601976394653 | MAE Test Loss: 0.19857852160930634 \n",
      "Epoch: 2200 | MAE Train Loss: 0.09916691482067108 | MAE Test Loss: 0.19673670828342438 \n",
      "Epoch: 2210 | MAE Train Loss: 0.09825751185417175 | MAE Test Loss: 0.19496290385723114 \n",
      "Epoch: 2220 | MAE Train Loss: 0.09734833240509033 | MAE Test Loss: 0.19312119483947754 \n",
      "Epoch: 2230 | MAE Train Loss: 0.09643895924091339 | MAE Test Loss: 0.1913474053144455 \n",
      "Epoch: 2240 | MAE Train Loss: 0.09552969038486481 | MAE Test Loss: 0.18950560688972473 \n",
      "Epoch: 2250 | MAE Train Loss: 0.09462045133113861 | MAE Test Loss: 0.1877317875623703 \n",
      "Epoch: 2260 | MAE Train Loss: 0.09371111541986465 | MAE Test Loss: 0.18588997423648834 \n",
      "Epoch: 2270 | MAE Train Loss: 0.09280190616846085 | MAE Test Loss: 0.1841161847114563 \n",
      "Epoch: 2280 | MAE Train Loss: 0.09189248830080032 | MAE Test Loss: 0.1822744756937027 \n",
      "Epoch: 2290 | MAE Train Loss: 0.09098334610462189 | MAE Test Loss: 0.18050067126750946 \n",
      "Epoch: 2300 | MAE Train Loss: 0.09007386863231659 | MAE Test Loss: 0.1786588430404663 \n",
      "Epoch: 2310 | MAE Train Loss: 0.08916480094194412 | MAE Test Loss: 0.17688505351543427 \n",
      "Epoch: 2320 | MAE Train Loss: 0.08825526386499405 | MAE Test Loss: 0.17504334449768066 \n",
      "Epoch: 2330 | MAE Train Loss: 0.0873461663722992 | MAE Test Loss: 0.17326955497264862 \n",
      "Epoch: 2340 | MAE Train Loss: 0.08643663674592972 | MAE Test Loss: 0.17149576544761658 \n",
      "Epoch: 2350 | MAE Train Loss: 0.08552753925323486 | MAE Test Loss: 0.16965392231941223 \n",
      "Epoch: 2360 | MAE Train Loss: 0.08461812883615494 | MAE Test Loss: 0.16788014769554138 \n",
      "Epoch: 2370 | MAE Train Loss: 0.08370895683765411 | MAE Test Loss: 0.166038379073143 \n",
      "Epoch: 2380 | MAE Train Loss: 0.08279959112405777 | MAE Test Loss: 0.16426464915275574 \n",
      "Epoch: 2390 | MAE Train Loss: 0.08189032971858978 | MAE Test Loss: 0.1624228060245514 \n",
      "Epoch: 2400 | MAE Train Loss: 0.0809810608625412 | MAE Test Loss: 0.16064903140068054 \n",
      "Epoch: 2410 | MAE Train Loss: 0.08007171005010605 | MAE Test Loss: 0.15880732238292694 \n",
      "Epoch: 2420 | MAE Train Loss: 0.07916251569986343 | MAE Test Loss: 0.1570335179567337 \n",
      "Epoch: 2430 | MAE Train Loss: 0.07825310528278351 | MAE Test Loss: 0.15519174933433533 \n",
      "Epoch: 2440 | MAE Train Loss: 0.07734394073486328 | MAE Test Loss: 0.15341803431510925 \n",
      "Epoch: 2450 | MAE Train Loss: 0.07643447816371918 | MAE Test Loss: 0.1515761911869049 \n",
      "Epoch: 2460 | MAE Train Loss: 0.07552536576986313 | MAE Test Loss: 0.1498025357723236 \n",
      "Epoch: 2470 | MAE Train Loss: 0.07461582124233246 | MAE Test Loss: 0.14796069264411926 \n",
      "Epoch: 2480 | MAE Train Loss: 0.07370676845312119 | MAE Test Loss: 0.1461869180202484 \n",
      "Epoch: 2490 | MAE Train Loss: 0.07279722392559052 | MAE Test Loss: 0.14434519410133362 \n",
      "Epoch: 2500 | MAE Train Loss: 0.07188810408115387 | MAE Test Loss: 0.14257140457630157 \n",
      "Epoch: 2510 | MAE Train Loss: 0.07097866386175156 | MAE Test Loss: 0.14079760015010834 \n",
      "Epoch: 2520 | MAE Train Loss: 0.07006949931383133 | MAE Test Loss: 0.13895590603351593 \n",
      "Epoch: 2530 | MAE Train Loss: 0.06916012614965439 | MAE Test Loss: 0.1371821165084839 \n",
      "Epoch: 2540 | MAE Train Loss: 0.0682508796453476 | MAE Test Loss: 0.13534040749073029 \n",
      "Epoch: 2550 | MAE Train Loss: 0.06734160333871841 | MAE Test Loss: 0.13356661796569824 \n",
      "Epoch: 2560 | MAE Train Loss: 0.06643225252628326 | MAE Test Loss: 0.13172490894794464 \n",
      "Epoch: 2570 | MAE Train Loss: 0.06552302092313766 | MAE Test Loss: 0.1299511194229126 \n",
      "Epoch: 2580 | MAE Train Loss: 0.06461364775896072 | MAE Test Loss: 0.12810930609703064 \n",
      "Epoch: 2590 | MAE Train Loss: 0.06370449811220169 | MAE Test Loss: 0.12633562088012695 \n",
      "Epoch: 2600 | MAE Train Loss: 0.0627950131893158 | MAE Test Loss: 0.12449381500482559 \n",
      "Epoch: 2610 | MAE Train Loss: 0.06188592314720154 | MAE Test Loss: 0.12272004038095474 \n",
      "Epoch: 2620 | MAE Train Loss: 0.06097637861967087 | MAE Test Loss: 0.12087829411029816 \n",
      "Epoch: 2630 | MAE Train Loss: 0.0600673072040081 | MAE Test Loss: 0.11910450458526611 \n",
      "Epoch: 2640 | MAE Train Loss: 0.05915776640176773 | MAE Test Loss: 0.11726279556751251 \n",
      "Epoch: 2650 | MAE Train Loss: 0.058248650282621384 | MAE Test Loss: 0.11548900604248047 \n",
      "Epoch: 2660 | MAE Train Loss: 0.057339202612638474 | MAE Test Loss: 0.11371521651744843 \n",
      "Epoch: 2670 | MAE Train Loss: 0.05643004924058914 | MAE Test Loss: 0.11187350749969482 \n",
      "Epoch: 2680 | MAE Train Loss: 0.0555206723511219 | MAE Test Loss: 0.11009971797466278 \n",
      "Epoch: 2690 | MAE Train Loss: 0.05461142212152481 | MAE Test Loss: 0.10825800895690918 \n",
      "Epoch: 2700 | MAE Train Loss: 0.05370211601257324 | MAE Test Loss: 0.10648421943187714 \n",
      "Epoch: 2710 | MAE Train Loss: 0.05279279872775078 | MAE Test Loss: 0.10464239120483398 \n",
      "Epoch: 2720 | MAE Train Loss: 0.05188358947634697 | MAE Test Loss: 0.10286859422922134 \n",
      "Epoch: 2730 | MAE Train Loss: 0.05097420886158943 | MAE Test Loss: 0.10102681815624237 \n",
      "Epoch: 2740 | MAE Train Loss: 0.0500650592148304 | MAE Test Loss: 0.09925304353237152 \n",
      "Epoch: 2750 | MAE Train Loss: 0.049155592918395996 | MAE Test Loss: 0.09741126745939255 \n",
      "Epoch: 2760 | MAE Train Loss: 0.04824650660157204 | MAE Test Loss: 0.0956374853849411 \n",
      "Epoch: 2770 | MAE Train Loss: 0.04733697324991226 | MAE Test Loss: 0.09379565715789795 \n",
      "Epoch: 2780 | MAE Train Loss: 0.0464278869330883 | MAE Test Loss: 0.09202186018228531 \n",
      "Epoch: 2790 | MAE Train Loss: 0.045518361032009125 | MAE Test Loss: 0.09018015116453171 \n",
      "Epoch: 2800 | MAE Train Loss: 0.044609278440475464 | MAE Test Loss: 0.08840636909008026 \n",
      "Epoch: 2810 | MAE Train Loss: 0.043699804693460464 | MAE Test Loss: 0.08663256466388702 \n",
      "Epoch: 2820 | MAE Train Loss: 0.04279066249728203 | MAE Test Loss: 0.08479074388742447 \n",
      "Epoch: 2830 | MAE Train Loss: 0.041881293058395386 | MAE Test Loss: 0.08301693946123123 \n",
      "Epoch: 2840 | MAE Train Loss: 0.040972061455249786 | MAE Test Loss: 0.08117512613534927 \n",
      "Epoch: 2850 | MAE Train Loss: 0.04006275534629822 | MAE Test Loss: 0.0793674886226654 \n",
      "Epoch: 2860 | MAE Train Loss: 0.03915347903966904 | MAE Test Loss: 0.07759368419647217 \n",
      "Epoch: 2870 | MAE Train Loss: 0.038244135677814484 | MAE Test Loss: 0.07575187087059021 \n",
      "Epoch: 2880 | MAE Train Loss: 0.03733496367931366 | MAE Test Loss: 0.07397808134555817 \n",
      "Epoch: 2890 | MAE Train Loss: 0.03642553836107254 | MAE Test Loss: 0.07213624566793442 \n",
      "Epoch: 2900 | MAE Train Loss: 0.03551642224192619 | MAE Test Loss: 0.07036245614290237 \n",
      "Epoch: 2910 | MAE Train Loss: 0.03460691496729851 | MAE Test Loss: 0.06852075457572937 \n",
      "Epoch: 2920 | MAE Train Loss: 0.03369782119989395 | MAE Test Loss: 0.06674695760011673 \n",
      "Epoch: 2930 | MAE Train Loss: 0.032788295298814774 | MAE Test Loss: 0.06490513682365417 \n",
      "Epoch: 2940 | MAE Train Loss: 0.03187920153141022 | MAE Test Loss: 0.06313133984804153 \n",
      "Epoch: 2950 | MAE Train Loss: 0.030969712883234024 | MAE Test Loss: 0.06135754659771919 \n",
      "Epoch: 2960 | MAE Train Loss: 0.03006060980260372 | MAE Test Loss: 0.05951578542590141 \n",
      "Epoch: 2970 | MAE Train Loss: 0.029151171445846558 | MAE Test Loss: 0.05774199962615967 \n",
      "Epoch: 2980 | MAE Train Loss: 0.028241991996765137 | MAE Test Loss: 0.05590022727847099 \n",
      "Epoch: 2990 | MAE Train Loss: 0.027332637459039688 | MAE Test Loss: 0.054126422852277756 \n",
      "Epoch: 3000 | MAE Train Loss: 0.026423374190926552 | MAE Test Loss: 0.0522846058011055 \n",
      "Epoch: 3010 | MAE Train Loss: 0.025514105334877968 | MAE Test Loss: 0.050510816276073456 \n",
      "Epoch: 3020 | MAE Train Loss: 0.024604761973023415 | MAE Test Loss: 0.04866911843419075 \n"
     ]
    },
    {
     "name": "stdout",
     "output_type": "stream",
     "text": [
      "Epoch: 3030 | MAE Train Loss: 0.023695573210716248 | MAE Test Loss: 0.04689529538154602 \n",
      "Epoch: 3040 | MAE Train Loss: 0.022786149755120277 | MAE Test Loss: 0.045053474605083466 \n",
      "Epoch: 3050 | MAE Train Loss: 0.021877054125070572 | MAE Test Loss: 0.04327968880534172 \n",
      "Epoch: 3060 | MAE Train Loss: 0.020967554301023483 | MAE Test Loss: 0.04143786430358887 \n",
      "Epoch: 3070 | MAE Train Loss: 0.020058462396264076 | MAE Test Loss: 0.03966407850384712 \n",
      "Epoch: 3080 | MAE Train Loss: 0.01914893090724945 | MAE Test Loss: 0.03782237321138382 \n",
      "Epoch: 3090 | MAE Train Loss: 0.018239840865135193 | MAE Test Loss: 0.03604857996106148 \n",
      "Epoch: 3100 | MAE Train Loss: 0.017330322414636612 | MAE Test Loss: 0.03427477926015854 \n",
      "Epoch: 3110 | MAE Train Loss: 0.01642121747136116 | MAE Test Loss: 0.03243296220898628 \n",
      "Epoch: 3120 | MAE Train Loss: 0.015511805191636086 | MAE Test Loss: 0.030659163370728493 \n",
      "Epoch: 3130 | MAE Train Loss: 0.014602622017264366 | MAE Test Loss: 0.028817366808652878 \n",
      "Epoch: 3140 | MAE Train Loss: 0.013693267479538918 | MAE Test Loss: 0.027043581008911133 \n",
      "Epoch: 3150 | MAE Train Loss: 0.01278400607407093 | MAE Test Loss: 0.025201838463544846 \n",
      "Epoch: 3160 | MAE Train Loss: 0.01187472976744175 | MAE Test Loss: 0.023428041487932205 \n",
      "Epoch: 3170 | MAE Train Loss: 0.010965386405587196 | MAE Test Loss: 0.02158622071146965 \n",
      "Epoch: 3180 | MAE Train Loss: 0.01005619578063488 | MAE Test Loss: 0.01981242373585701 \n",
      "Epoch: 3190 | MAE Train Loss: 0.00914678443223238 | MAE Test Loss: 0.017970729619264603 \n",
      "Epoch: 3200 | MAE Train Loss: 0.008237664587795734 | MAE Test Loss: 0.016196925193071365 \n",
      "Epoch: 3210 | MAE Train Loss: 0.007328165229409933 | MAE Test Loss: 0.014355098828673363 \n",
      "Epoch: 3220 | MAE Train Loss: 0.006419070065021515 | MAE Test Loss: 0.012581318616867065 \n",
      "Epoch: 3230 | MAE Train Loss: 0.005509569309651852 | MAE Test Loss: 0.010739493183791637 \n",
      "Epoch: 3240 | MAE Train Loss: 0.004600255284458399 | MAE Test Loss: 0.008931845426559448 \n",
      "Epoch: 3250 | MAE Train Loss: 0.003691166639328003 | MAE Test Loss: 0.007158064749091864 \n",
      "Epoch: 3260 | MAE Train Loss: 0.0027816861402243376 | MAE Test Loss: 0.005384254269301891 \n",
      "Epoch: 3270 | MAE Train Loss: 0.0018725532572716475 | MAE Test Loss: 0.003542441176250577 \n",
      "Epoch: 3280 | MAE Train Loss: 0.000963167636655271 | MAE Test Loss: 0.0017686367500573397 \n",
      "Epoch: 3290 | MAE Train Loss: 0.0006659372011199594 | MAE Test Loss: 0.0015881359577178955 \n"
     ]
    }
   ],
   "source": [
    "torch.manual_seed(1)\n",
    "\n",
    "epochs = 3300\n",
    "\n",
    "train_loss_values = list()\n",
    "test_loss_values = list()\n",
    "epoch_count = list()\n",
    "for epoch in range(epochs):\n",
    "    # training \n",
    "    \n",
    "    model_0.train()\n",
    "    y_pred = model_0(X_train)\n",
    "    loss = loss_function(y_pred, y_train)\n",
    "    optimizer.zero_grad()\n",
    "    loss.backward()\n",
    "    optimizer.step()\n",
    "    \n",
    "    #testing\n",
    "    model_0.eval()\n",
    "    \n",
    "    with torch.inference_mode():\n",
    "        test_pred = model_0(X_test)\n",
    "        test_loss = loss_function(test_pred, y_test.type(torch.float))\n",
    "        if epoch % 10 == 0:\n",
    "            epoch_count.append(epoch)\n",
    "            train_loss_values.append(loss.detach().numpy())\n",
    "            test_loss_values.append(test_loss.detach().numpy())\n",
    "            print(f\"Epoch: {epoch} | MAE Train Loss: {loss} | MAE Test Loss: {test_loss} \")\n",
    "    "
   ]
  },
  {
   "cell_type": "code",
   "execution_count": 136,
   "id": "1612d160",
   "metadata": {},
   "outputs": [
    {
     "data": {
      "text/plain": [
       "<matplotlib.legend.Legend at 0x2067d53d3a0>"
      ]
     },
     "execution_count": 136,
     "metadata": {},
     "output_type": "execute_result"
    },
    {
     "data": {
      "image/png": "[encoded data removed]",
      "text/plain": [
       "<Figure size 640x480 with 1 Axes>"
      ]
     },
     "metadata": {},
     "output_type": "display_data"
    }
   ],
   "source": [
    "plt.plot(epoch_count, train_loss_values, label=\"Training Loss\")\n",
    "plt.plot(epoch_count, test_loss_values, label=\"Testing Loss\")\n",
    "plt.title(\"Training and Testing losses\")\n",
    "plt.ylabel(\"Loss\")\n",
    "plt.xlabel(\"Epochs\")\n",
    "plt.legend()"
   ]
  },
  {
   "cell_type": "code",
   "execution_count": 137,
   "id": "1bac0082",
   "metadata": {},
   "outputs": [
    {
     "name": "stdout",
     "output_type": "stream",
     "text": [
      "The model learned the following values for weights and bias:\n",
      "OrderedDict([('weights', tensor([0.6998])), ('bias', tensor([0.2495]))])\n",
      "\n",
      "And the original values for weights and bias are:\n",
      "weights: 0.7, bias: 0.25\n"
     ]
    }
   ],
   "source": [
    "# Find our model's learned parameters\n",
    "print(\"The model learned the following values for weights and bias:\")\n",
    "print(model_0.state_dict())\n",
    "print(\"\\nAnd the original values for weights and bias are:\")\n",
    "print(f\"weights: {weight}, bias: {bias}\")"
   ]
  },
  {
   "cell_type": "markdown",
   "id": "ec3c7ee9",
   "metadata": {},
   "source": [
    "### Making prediction"
   ]
  },
  {
   "cell_type": "code",
   "execution_count": 138,
   "id": "6ba4393b",
   "metadata": {},
   "outputs": [
    {
     "data": {
      "text/plain": [
       "tensor([[1.3692],\n",
       "        [1.3832],\n",
       "        [1.3972],\n",
       "        [1.4112],\n",
       "        [1.4252],\n",
       "        [1.4392],\n",
       "        [1.4532],\n",
       "        [1.4672],\n",
       "        [1.4812],\n",
       "        [1.4952],\n",
       "        [1.5092],\n",
       "        [1.5232],\n",
       "        [1.5372],\n",
       "        [1.5512],\n",
       "        [1.5652],\n",
       "        [1.5792],\n",
       "        [1.5932],\n",
       "        [1.6071],\n",
       "        [1.6211],\n",
       "        [1.6351]])"
      ]
     },
     "execution_count": 138,
     "metadata": {},
     "output_type": "execute_result"
    }
   ],
   "source": [
    "model_0.eval()\n",
    "\n",
    "with torch.inference_mode():\n",
    "    y_preds = model_0(X_test)\n",
    "    \n",
    "y_preds"
   ]
  },
  {
   "cell_type": "code",
   "execution_count": 139,
   "id": "689863f5",
   "metadata": {},
   "outputs": [
    {
     "data": {
      "image/png": "[encoded data removed]",
      "text/plain": [
       "<Figure size 600x600 with 1 Axes>"
      ]
     },
     "metadata": {},
     "output_type": "display_data"
    }
   ],
   "source": [
    "plot_predictions(predictions=y_preds)"
   ]
  },
  {
   "cell_type": "markdown",
   "id": "6c13f5c7",
   "metadata": {},
   "source": [
    "### Saving and Loading PyTorch model"
   ]
  },
  {
   "cell_type": "code",
   "execution_count": 143,
   "id": "a8ea0dc4",
   "metadata": {},
   "outputs": [],
   "source": [
    "from pathlib import Path\n",
    "\n",
    "MODEL_PATH = Path(\"models\")\n",
    "MODEL_PATH.mkdir(parents=True, exist_ok=True)\n",
    "\n",
    "MODEL_NAME = \"Pytorch_workflow.pth\"\n",
    "MODEL_SAVE_PATH = MODEL_PATH / MODEL_NAME\n",
    "\n",
    "torch.save(obj=model_0.state_dict(), f=MODEL_SAVE_PATH)"
   ]
  },
  {
   "cell_type": "code",
   "execution_count": 147,
   "id": "9aadcc83",
   "metadata": {},
   "outputs": [
    {
     "data": {
      "text/plain": [
       "<All keys matched successfully>"
      ]
     },
     "execution_count": 147,
     "metadata": {},
     "output_type": "execute_result"
    }
   ],
   "source": [
    "# Instantiate a new instance of our model (this will be instantiated with random weights)\n",
    "loaded_model_0 = LinearRegression()\n",
    "\n",
    "# Load the state_dict of our saved model (this will update the new instance of our model with trained weights)\n",
    "loaded_model_0.load_state_dict(torch.load(f=MODEL_SAVE_PATH))"
   ]
  },
  {
   "cell_type": "code",
   "execution_count": 149,
   "id": "1f9ac113",
   "metadata": {},
   "outputs": [],
   "source": [
    "# 1. Put the loaded model into evaluation mode\n",
    "loaded_model_0.eval()\n",
    "\n",
    "# 2. Use the inference mode context manager to make predictions\n",
    "with torch.inference_mode():\n",
    "    loaded_model_preds = loaded_model_0(X_test) # perform a forward pass on the test data with the loaded model"
   ]
  },
  {
   "cell_type": "code",
   "execution_count": 150,
   "id": "6ff03ebb",
   "metadata": {},
   "outputs": [
    {
     "data": {
      "text/plain": [
       "tensor([[True],\n",
       "        [True],\n",
       "        [True],\n",
       "        [True],\n",
       "        [True],\n",
       "        [True],\n",
       "        [True],\n",
       "        [True],\n",
       "        [True],\n",
       "        [True],\n",
       "        [True],\n",
       "        [True],\n",
       "        [True],\n",
       "        [True],\n",
       "        [True],\n",
       "        [True],\n",
       "        [True],\n",
       "        [True],\n",
       "        [True],\n",
       "        [True]])"
      ]
     },
     "execution_count": 150,
     "metadata": {},
     "output_type": "execute_result"
    }
   ],
   "source": [
    "# Compare previous model predictions with loaded model predictions (these should be the same)\n",
    "y_preds == loaded_model_preds"
   ]
  }
 ],
 "metadata": {
  "kernelspec": {
   "display_name": "Python 3 (ipykernel)",
   "language": "python",
   "name": "python3"
  },
  "language_info": {
   "codemirror_mode": {
    "name": "ipython",
    "version": 3
   },
   "file_extension": ".py",
   "mimetype": "text/x-python",
   "name": "python",
   "nbconvert_exporter": "python",
   "pygments_lexer": "ipython3",
   "version": "3.9.16"
  }
 },
 "nbformat": 4,
 "nbformat_minor": 5
}
